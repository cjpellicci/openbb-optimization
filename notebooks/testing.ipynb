{
 "cells": [
  {
   "cell_type": "code",
   "execution_count": 17,
   "metadata": {},
   "outputs": [],
   "source": [
    "from openbb_optimization.utils.helpers import _fetch_equity_price_df, _process_price_df, _combine_price_dfs\n",
    "from openbb_optimization.aggregator import _aggregate_asset_data\n",
    "from openbb_optimization.models.optimizer_query_params import OptimizerQueryParams"
   ]
  },
  {
   "cell_type": "markdown",
   "metadata": {},
   "source": [
    "\"\"\"params = OptimizerQueryParams(\n",
    "    symbols=[\"AAL\",\"MSFT\",\"AMZN\",\"MDLZ\",\"F\"],\n",
    "    start_date=\"2021-12-30\",\n",
    "    end_date=\"2024-12-30\",\n",
    "    risk_free_rate=0.045,\n",
    "    max_weight=0.400\n",
    ")\"\"\""
   ]
  },
  {
   "cell_type": "markdown",
   "metadata": {},
   "source": [
    "results = await _aggregate_asset_data(params)"
   ]
  },
  {
   "cell_type": "code",
   "execution_count": 30,
   "metadata": {},
   "outputs": [
    {
     "data": {
      "text/html": [
       "<div>\n",
       "<style scoped>\n",
       "    .dataframe tbody tr th:only-of-type {\n",
       "        vertical-align: middle;\n",
       "    }\n",
       "\n",
       "    .dataframe tbody tr th {\n",
       "        vertical-align: top;\n",
       "    }\n",
       "\n",
       "    .dataframe thead th {\n",
       "        text-align: right;\n",
       "    }\n",
       "</style>\n",
       "<table border=\"1\" class=\"dataframe\">\n",
       "  <thead>\n",
       "    <tr style=\"text-align: right;\">\n",
       "      <th></th>\n",
       "      <th>AAL</th>\n",
       "      <th>MSFT</th>\n",
       "      <th>AMZN</th>\n",
       "      <th>MDLZ</th>\n",
       "      <th>F</th>\n",
       "    </tr>\n",
       "    <tr>\n",
       "      <th>date</th>\n",
       "      <th></th>\n",
       "      <th></th>\n",
       "      <th></th>\n",
       "      <th></th>\n",
       "      <th></th>\n",
       "    </tr>\n",
       "  </thead>\n",
       "  <tbody>\n",
       "    <tr>\n",
       "      <th>2021-12-30</th>\n",
       "      <td>18.07</td>\n",
       "      <td>339.32</td>\n",
       "      <td>168.6445</td>\n",
       "      <td>65.75</td>\n",
       "      <td>20.47</td>\n",
       "    </tr>\n",
       "    <tr>\n",
       "      <th>2021-12-31</th>\n",
       "      <td>17.96</td>\n",
       "      <td>336.32</td>\n",
       "      <td>166.7170</td>\n",
       "      <td>66.31</td>\n",
       "      <td>20.77</td>\n",
       "    </tr>\n",
       "    <tr>\n",
       "      <th>2022-01-03</th>\n",
       "      <td>18.75</td>\n",
       "      <td>334.75</td>\n",
       "      <td>170.4045</td>\n",
       "      <td>65.97</td>\n",
       "      <td>21.77</td>\n",
       "    </tr>\n",
       "    <tr>\n",
       "      <th>2022-01-04</th>\n",
       "      <td>19.02</td>\n",
       "      <td>329.01</td>\n",
       "      <td>167.5220</td>\n",
       "      <td>66.45</td>\n",
       "      <td>24.31</td>\n",
       "    </tr>\n",
       "    <tr>\n",
       "      <th>2022-01-05</th>\n",
       "      <td>18.68</td>\n",
       "      <td>316.38</td>\n",
       "      <td>164.3570</td>\n",
       "      <td>67.41</td>\n",
       "      <td>23.66</td>\n",
       "    </tr>\n",
       "    <tr>\n",
       "      <th>...</th>\n",
       "      <td>...</td>\n",
       "      <td>...</td>\n",
       "      <td>...</td>\n",
       "      <td>...</td>\n",
       "      <td>...</td>\n",
       "    </tr>\n",
       "    <tr>\n",
       "      <th>2024-12-23</th>\n",
       "      <td>17.25</td>\n",
       "      <td>435.25</td>\n",
       "      <td>225.0600</td>\n",
       "      <td>59.28</td>\n",
       "      <td>9.90</td>\n",
       "    </tr>\n",
       "    <tr>\n",
       "      <th>2024-12-24</th>\n",
       "      <td>17.35</td>\n",
       "      <td>439.33</td>\n",
       "      <td>229.0500</td>\n",
       "      <td>60.00</td>\n",
       "      <td>10.02</td>\n",
       "    </tr>\n",
       "    <tr>\n",
       "      <th>2024-12-26</th>\n",
       "      <td>17.35</td>\n",
       "      <td>438.11</td>\n",
       "      <td>227.0500</td>\n",
       "      <td>59.85</td>\n",
       "      <td>10.07</td>\n",
       "    </tr>\n",
       "    <tr>\n",
       "      <th>2024-12-27</th>\n",
       "      <td>17.35</td>\n",
       "      <td>430.53</td>\n",
       "      <td>223.7500</td>\n",
       "      <td>60.21</td>\n",
       "      <td>10.03</td>\n",
       "    </tr>\n",
       "    <tr>\n",
       "      <th>2024-12-30</th>\n",
       "      <td>17.62</td>\n",
       "      <td>424.83</td>\n",
       "      <td>221.3000</td>\n",
       "      <td>59.56</td>\n",
       "      <td>9.88</td>\n",
       "    </tr>\n",
       "  </tbody>\n",
       "</table>\n",
       "<p>754 rows × 5 columns</p>\n",
       "</div>"
      ],
      "text/plain": [
       "              AAL    MSFT      AMZN   MDLZ      F\n",
       "date                                             \n",
       "2021-12-30  18.07  339.32  168.6445  65.75  20.47\n",
       "2021-12-31  17.96  336.32  166.7170  66.31  20.77\n",
       "2022-01-03  18.75  334.75  170.4045  65.97  21.77\n",
       "2022-01-04  19.02  329.01  167.5220  66.45  24.31\n",
       "2022-01-05  18.68  316.38  164.3570  67.41  23.66\n",
       "...           ...     ...       ...    ...    ...\n",
       "2024-12-23  17.25  435.25  225.0600  59.28   9.90\n",
       "2024-12-24  17.35  439.33  229.0500  60.00  10.02\n",
       "2024-12-26  17.35  438.11  227.0500  59.85  10.07\n",
       "2024-12-27  17.35  430.53  223.7500  60.21  10.03\n",
       "2024-12-30  17.62  424.83  221.3000  59.56   9.88\n",
       "\n",
       "[754 rows x 5 columns]"
      ]
     },
     "execution_count": 30,
     "metadata": {},
     "output_type": "execute_result"
    }
   ],
   "source": [
    "results"
   ]
  },
  {
   "cell_type": "code",
   "execution_count": 31,
   "metadata": {},
   "outputs": [],
   "source": [
    "from openbb import obb"
   ]
  },
  {
   "cell_type": "code",
   "execution_count": 36,
   "metadata": {},
   "outputs": [
    {
     "name": "stderr",
     "output_type": "stream",
     "text": [
      "/home/cjpellicci/workspace/openbb_extension_dev/.testvenv/lib/python3.10/site-packages/openbb_core/app/command_runner.py:139: OpenBBWarning: Parameter 'chart' not found.\n",
      "  warn(\n"
     ]
    }
   ],
   "source": [
    "result = obb.equity.price.historical(\"KDP\",\n",
    "                                     provider=\"yfinance\")"
   ]
  },
  {
   "cell_type": "code",
   "execution_count": 3,
   "metadata": {},
   "outputs": [],
   "source": [
    "import requests\n",
    "import pandas as pd\n",
    "\n",
    "symbol = \"KDP\"\n",
    "\n",
    "data = requests.get(f\"https://www.alphavantage.co/query?function=TIME_SERIES_DAILY&symbol={symbol}&outputsize=full&apikey=JKTNMNJ53KB13L17\")\n",
    "json_data = data.json()\n"
   ]
  },
  {
   "cell_type": "code",
   "execution_count": 4,
   "metadata": {},
   "outputs": [],
   "source": [
    "# Extract time series\n",
    "time_series = json_data[\"Time Series (Daily)\"]"
   ]
  },
  {
   "cell_type": "code",
   "execution_count": 16,
   "metadata": {},
   "outputs": [],
   "source": [
    "df = pd.DataFrame.from_dict(time_series, orient='index')"
   ]
  },
  {
   "cell_type": "code",
   "execution_count": 19,
   "metadata": {},
   "outputs": [
    {
     "data": {
      "text/plain": [
       "2025-01-24    9111670\n",
       "2025-01-23    7784754\n",
       "2025-01-22    8788860\n",
       "2025-01-21    7990093\n",
       "2025-01-17    6930310\n",
       "               ...   \n",
       "2008-05-02    2540647\n",
       "2008-05-01    2050600\n",
       "2008-04-30     927500\n",
       "2008-04-29     927400\n",
       "2008-04-28     906532\n",
       "Name: 5. volume, Length: 4214, dtype: int64"
      ]
     },
     "execution_count": 19,
     "metadata": {},
     "output_type": "execute_result"
    }
   ],
   "source": [
    "vol = round(df[\"5. volume\"]).astype(int)\n",
    "vol"
   ]
  },
  {
   "cell_type": "code",
   "execution_count": 3,
   "metadata": {},
   "outputs": [
    {
     "name": "stderr",
     "output_type": "stream",
     "text": [
      "DEBUG:asyncio:Using selector: EpollSelector\n"
     ]
    }
   ],
   "source": [
    "import logging\n",
    "from openbb import obb\n",
    "\n",
    "# Enable debug logging\n",
    "logging.basicConfig(level=logging.DEBUG)\n",
    "\n",
    "# Try the call with explicit parameters\n",
    "try:\n",
    "    result = obb.equity.price.historical(\n",
    "        symbol=\"KDP\",\n",
    "        provider=\"alpha_vantage\",\n",
    "        start_date=\"2024-01-01\",  # Explicit recent date range\n",
    "        end_date=\"2025-01-26\"\n",
    "    )\n",
    "    print(\"Success!\")\n",
    "    print(result.head())\n",
    "except Exception as e:\n",
    "    print(f\"Error type: {type(e)}\")\n",
    "    print(f\"Error message: {str(e)}\")"
   ]
  }
 ],
 "metadata": {
  "kernelspec": {
   "display_name": ".testvenv",
   "language": "python",
   "name": "python3"
  },
  "language_info": {
   "codemirror_mode": {
    "name": "ipython",
    "version": 3
   },
   "file_extension": ".py",
   "mimetype": "text/x-python",
   "name": "python",
   "nbconvert_exporter": "python",
   "pygments_lexer": "ipython3",
   "version": "3.10.12"
  }
 },
 "nbformat": 4,
 "nbformat_minor": 2
}
